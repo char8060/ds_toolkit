{
 "cells": [
  {
   "cell_type": "markdown",
   "metadata": {},
   "source": [
    "# Converts data from Excel to Parquet\n",
    "Use case: uploading to dbs BQ, Athena, Redshift "
   ]
  },
  {
   "cell_type": "code",
   "execution_count": 2,
   "metadata": {},
   "outputs": [],
   "source": [
    "import pandas as pd"
   ]
  },
  {
   "cell_type": "code",
   "execution_count": 3,
   "metadata": {},
   "outputs": [],
   "source": [
    "#!pip install pyarrow"
   ]
  },
  {
   "cell_type": "markdown",
   "metadata": {},
   "source": [
    "## Load excel"
   ]
  },
  {
   "cell_type": "code",
   "execution_count": 4,
   "metadata": {},
   "outputs": [],
   "source": [
    "EXCEL_FILE = 'chats2019.xlsx'\n",
    "chats_df = pd.read_excel(EXCEL_FILE,sheet_name=None)"
   ]
  },
  {
   "cell_type": "markdown",
   "metadata": {},
   "source": [
    "## Convert to Parquet"
   ]
  },
  {
   "cell_type": "code",
   "execution_count": 8,
   "metadata": {},
   "outputs": [
    {
     "name": "stdout",
     "output_type": "stream",
     "text": [
      "!!!!!!! dry run set to True!!!!!!!!!!!!\n",
      "\n",
      "raw sheet name: Summary\n",
      "sheet name: summary\n",
      "column names: Index(['chat_classifications', 'unnamed_1', 'unnamed_2', 'unnamed_3',\n",
      "       'unnamed_4', 'unnamed_5', 'unnamed_6', 'unnamed_7', 'unnamed_8',\n",
      "       'unnamed_9', 'unnamed_10'],\n",
      "      dtype='object')\n",
      "raw sheet name: Transformed Data\n",
      "sheet name: transformed_data\n",
      "column names: Index(['id', 'name', 'email', 'department', 'racker_feedback', 'agent',\n",
      "       'content', 'start_time', 'end_time', 'product_service', 'phone',\n",
      "       'company', 'waiting_time', 'request_page', 'referrer_url',\n",
      "       'search_engine', 'custom_variables', 'rating', 'rating_comment',\n",
      "       'category', 'duration', 'campaign', 'agent_comment', 'city',\n",
      "       'state_province', 'country_region', 'last_message_sent_by', 'category2',\n",
      "       'quik_completed',\n",
      "       'on_a_scale_from_0_to_10,_how_likely_are_you_to_recommend_us_to_a_friend_or_colleague',\n",
      "       'any_further_comments', 'chat_classification', 'campaign_detail'],\n",
      "      dtype='object')\n",
      "raw sheet name: RAW Data\n",
      "sheet name: raw_data\n",
      "column names: Index(['id', 'name', 'email', 'department', 'agent', 'content', 'start_time',\n",
      "       'end_time', 'product_service', 'phone', 'company', 'waiting_time',\n",
      "       'request_page', 'referrer_url', 'search_engine', 'custom_variables',\n",
      "       'rating', 'rating_comment', 'category', 'duration', 'campaign',\n",
      "       'agent_comment', 'city', 'state_province', 'country_region',\n",
      "       'last_message_sent_by', 'category2', 'quik_completed',\n",
      "       'on_a_scale_from_0_to_10,_how_likely_are_you_to_recommend_us_to_a_friend_or_colleague',\n",
      "       'any_further_comments'],\n",
      "      dtype='object')\n",
      "raw sheet name: January chats all RAW\n",
      "sheet name: january_chats_all_raw\n",
      "column names: Index(['id', 'name', 'email', 'department', 'agent', 'content', 'start_time',\n",
      "       'end_time', 'product_service', 'phone', 'company', 'waiting_time',\n",
      "       'request_page', 'referrer_url', 'search_engine', 'custom_variables',\n",
      "       'rating', 'rating_comment', 'duration', 'campaign', 'unnamed_20',\n",
      "       'agent_comment', 'city', 'state_province', 'country_region',\n",
      "       'last_message_sent_by', 'category', 'quik_completed',\n",
      "       'on_a_scale_from_0_to_10,_how_likely_are_you_to_recommend_us_to_a_friend_or_colleague',\n",
      "       'any_further_comments', 'unnamed_30'],\n",
      "      dtype='object')\n",
      "raw sheet name: December chats all RAW\n",
      "sheet name: december_chats_all_raw\n",
      "column names: Index(['id', 'name', 'email', 'department', 'agent', 'content', 'start_time',\n",
      "       'end_time', 'product_service', 'phone', 'company', 'waiting_time',\n",
      "       'request_page', 'referrer_url', 'search_engine', 'custom_variables',\n",
      "       'rating', 'rating_comment', 'duration', 'campaign', 'agent_comment',\n",
      "       'city', 'state_province', 'country_region', 'last_message_sent_by',\n",
      "       'category', 'quik_completed',\n",
      "       'on_a_scale_from_0_to_10,_how_likely_are_you_to_recommend_us_to_a_friend_or_colleague',\n",
      "       'any_further_comments'],\n",
      "      dtype='object')\n"
     ]
    }
   ],
   "source": [
    "#recommed set dry_run to True for first pass to make sure all column names are santized\n",
    "#then set to false to convert and save parquet files\n",
    "dry_run = True\n",
    "\n",
    "print(f'!!!!!!! dry run set to {dry_run}!!!!!!!!!!!!\\n')\n",
    "#loop over excel sheet names and clean them, print out info\n",
    "for k,v in chats_df.items():\n",
    "    print(f'raw sheet name: {k}')\n",
    "    sheet_name = k.lower().replace(' ','_')\n",
    "    v.columns = v.columns.str.lower()\\\n",
    "                        .str.replace(' ', '_')\\\n",
    "                        .str.replace('?','')\\\n",
    "                        .str.replace('/','_')\\\n",
    "                        .str.replace(':','')\n",
    "    print(f'sheet name: {sheet_name}')\n",
    "    print(f'column names: {v.columns}')\n",
    "    #v.to_csv(f'{sheet_name}.csv')\n",
    "    \n",
    "    for col_name,col_dtype in zip(v.columns,v.dtypes):\n",
    "        if col_dtype == 'object':\n",
    "            v[col_name] = v[col_name].astype(str)\n",
    "    \n",
    "    if not dry_run:\n",
    "        print('saving parquet files...')\n",
    "        try:\n",
    "            v.to_parquet(f'{sheet_name}.parquet')\n",
    "            print(f'saved {sheet_name}.parquet\\n')\n",
    "        except Exception as e:\n",
    "            print(e)"
   ]
  },
  {
   "cell_type": "code",
   "execution_count": null,
   "metadata": {},
   "outputs": [],
   "source": []
  }
 ],
 "metadata": {
  "kernelspec": {
   "display_name": "Python 3",
   "language": "python",
   "name": "python3"
  },
  "language_info": {
   "codemirror_mode": {
    "name": "ipython",
    "version": 3
   },
   "file_extension": ".py",
   "mimetype": "text/x-python",
   "name": "python",
   "nbconvert_exporter": "python",
   "pygments_lexer": "ipython3",
   "version": "3.7.6"
  }
 },
 "nbformat": 4,
 "nbformat_minor": 4
}
