{
 "cells": [
  {
   "cell_type": "markdown",
   "metadata": {},
   "source": [
    "# Converts data from Excel to Parquet\n",
    "Use case: uploading to dbs BQ, Athena, Redshift "
   ]
  },
  {
   "cell_type": "code",
   "execution_count": 2,
   "metadata": {},
   "outputs": [],
   "source": [
    "import pandas as pd"
   ]
  },
  {
   "cell_type": "code",
   "execution_count": 3,
   "metadata": {},
   "outputs": [],
   "source": [
    "#!pip install pyarrow"
   ]
  },
  {
   "cell_type": "markdown",
   "metadata": {},
   "source": [
    "## Load excel"
   ]
  },
  {
   "cell_type": "code",
   "execution_count": 4,
   "metadata": {},
   "outputs": [],
   "source": [
    "EXCEL_FILE = '~/Downloads/Final intents, utterances, responses.xlsx'\n",
    "chats_df = pd.read_excel(EXCEL_FILE,sheet_name=None)"
   ]
  },
  {
   "cell_type": "markdown",
   "metadata": {},
   "source": [
    "## Convert to Parquet"
   ]
  },
  {
   "cell_type": "code",
   "execution_count": 10,
   "metadata": {},
   "outputs": [
    {
     "name": "stdout",
     "output_type": "stream",
     "text": [
      "!!!!!!! dry run set to False!!!!!!!!!!!!\n",
      "\n",
      "raw sheet name: Intents and utterances\n",
      "cleaned sheet name: intents_and_utterances\n",
      "cleaned column names: Index(['category_path', 'intent_name', 'visitor_questions', 'response'], dtype='object')\n",
      "saving parquet files...\n",
      "saved intents_and_utterances.parquet\n",
      "\n",
      "------------------------------------------------\n",
      "raw sheet name: Referenced Web Pages\n",
      "cleaned sheet name: referenced_web_pages\n",
      "cleaned column names: Index(['url', 'col1'], dtype='object')\n",
      "cleaned & renamed column names: Index(['url', 'col1'], dtype='object')\n",
      "saving parquet files...\n",
      "saved referenced_web_pages.parquet\n",
      "\n",
      "------------------------------------------------\n"
     ]
    }
   ],
   "source": [
    "#recommed set dry_run to True for first pass to make sure all column names are santized\n",
    "#then set to false to convert and save parquet files\n",
    "dry_run = True\n",
    "\n",
    "print(f'!!!!!!! dry run set to {dry_run}!!!!!!!!!!!!\\n')\n",
    "#loop over excel sheet names and clean them, print out info\n",
    "for k,v in chats_df.items():\n",
    "    print(f'raw sheet name: {k}')\n",
    "\n",
    "    #clean sheet and column names \n",
    "    sheet_name = k.lower().replace(' ','_')\\\n",
    "                          .replace('/','')\n",
    "    v.columns = v.columns.str.lower()\\\n",
    "                        .str.replace(' ', '_')\\\n",
    "                        .str.replace('?','')\\\n",
    "                        .str.replace('/','_')\\\n",
    "                        .str.replace(':','')\n",
    "    print(f'cleaned sheet name: {sheet_name}')\n",
    "    print(f'cleaned column names: {v.columns}')\n",
    "   \n",
    "    \n",
    "    #rename column names if necessary\n",
    "    #if sheet_name == 'referenced_web_pages':\n",
    "    #    v.rename(columns={\"unnamed_0\": \"url\", \"unnamed_1\": \"col1\"},inplace=True)\n",
    "    #    print(f'cleaned & renamed column names: {v.columns}')\n",
    "        \n",
    "    #convert pandas obj types to string types\n",
    "    for col_name,col_dtype in zip(v.columns,v.dtypes):\n",
    "        if col_dtype == 'object':\n",
    "            v[col_name] = v[col_name].astype(str)\n",
    "    \n",
    "    #save parquet files\n",
    "    if not dry_run:\n",
    "        print('saving parquet files...')\n",
    "        try:\n",
    "            v.to_parquet(f'{sheet_name}.parquet')\n",
    "            print(f'saved {sheet_name}.parquet\\n')\n",
    "        except Exception as e:\n",
    "            print(e)\n",
    "    print('------------------------------------------------')"
   ]
  },
  {
   "cell_type": "code",
   "execution_count": null,
   "metadata": {},
   "outputs": [],
   "source": []
  }
 ],
 "metadata": {
  "kernelspec": {
   "display_name": "Python 3",
   "language": "python",
   "name": "python3"
  },
  "language_info": {
   "codemirror_mode": {
    "name": "ipython",
    "version": 3
   },
   "file_extension": ".py",
   "mimetype": "text/x-python",
   "name": "python",
   "nbconvert_exporter": "python",
   "pygments_lexer": "ipython3",
   "version": "3.7.6"
  }
 },
 "nbformat": 4,
 "nbformat_minor": 4
}
